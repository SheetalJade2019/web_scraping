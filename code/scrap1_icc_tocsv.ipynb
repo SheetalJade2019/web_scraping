{
 "cells": [
  {
   "cell_type": "code",
   "execution_count": 5,
   "metadata": {},
   "outputs": [
    {
     "data": {
      "text/plain": [
       "'\\n  -------------- TEXT SCRAPING ---------------- \\n      SCAPING ICC WEBSITE TO GET TOP 10 TEAMS\\n  ---------------------------------------------\\nSteps :\\n     1 make list\\n     2 append list\\n     3 insert list to dataframe\\n     4 define columns\\n     5 write to csv\\n \\n'"
      ]
     },
     "execution_count": 5,
     "metadata": {},
     "output_type": "execute_result"
    }
   ],
   "source": [
    "'''\n",
    "  -------------- TEXT SCRAPING ---------------- \n",
    "      SCAPING ICC WEBSITE TO GET TOP 10 TEAMS\n",
    "         CONVERT IT TO CSV FILE FORMAT\n",
    "  ---------------------------------------------\n",
    "Steps :\n",
    "     1 make list\n",
    "     2 append list\n",
    "     3 insert list to dataframe\n",
    "     4 define columns\n",
    "     5 write to csv\n",
    " \n",
    "'''"
   ]
  },
  {
   "cell_type": "code",
   "execution_count": 6,
   "metadata": {},
   "outputs": [],
   "source": [
    "import requests\n",
    "from bs4 import BeautifulSoup\n",
    "import pandas as pd\n",
    "import html.parser\n",
    "#!pip install html-parser\n",
    "#!pip install requests-html\n",
    "#import requests.html\n",
    "\n",
    "#!pip install phantomjs #--version\n",
    "#import phantomjs\n",
    "# if we dont import phantomjs, we cant access scripts written in hmtl or data entered with javascript"
   ]
  },
  {
   "cell_type": "code",
   "execution_count": 7,
   "metadata": {},
   "outputs": [
    {
     "name": "stdout",
     "output_type": "stream",
     "text": [
      "<Response [200]>\n"
     ]
    }
   ],
   "source": [
    "url='https://www.icc-cricket.com/rankings/mens/team-rankings/odi'\n",
    "# 1 request\n",
    "# 2 response\n",
    "response=requests.get(url)\n",
    "print(response)"
   ]
  },
  {
   "cell_type": "code",
   "execution_count": 8,
   "metadata": {},
   "outputs": [],
   "source": [
    "# 3 parsing\n",
    "soup=BeautifulSoup(response.text,'html.parser')\n",
    "#soup"
   ]
  },
  {
   "cell_type": "code",
   "execution_count": 9,
   "metadata": {},
   "outputs": [
    {
     "data": {
      "text/plain": [
       "'Name Lastname'"
      ]
     },
     "execution_count": 9,
     "metadata": {},
     "output_type": "execute_result"
    }
   ],
   "source": [
    "# 4 filter\n",
    "soup.p.text\n"
   ]
  },
  {
   "cell_type": "code",
   "execution_count": 10,
   "metadata": {},
   "outputs": [],
   "source": [
    "# get table\n",
    "# find all from div with class name is rankings-block__container full rankings-table\n",
    "table=soup.find('div',{'class':'rankings-block__container full rankings-table'})\n",
    "#table"
   ]
  },
  {
   "cell_type": "code",
   "execution_count": 11,
   "metadata": {},
   "outputs": [],
   "source": [
    "# parse names of team\n",
    "\n",
    "rankings=[]\n",
    "team_name=[]\n",
    "rank=1\n",
    "for team in table.find_all('td',{'class':'table-body__cell rankings-table__team'}):\n",
    "    \n",
    "    team.text.replace(\" \",'')\n",
    "    name=team.text.replace('\\n','')\n",
    "    rankings.append(rank)\n",
    "    team_name.append(str(name))\n",
    "    #print(str(rank)+ name)\n",
    "    rank=rank+1"
   ]
  },
  {
   "cell_type": "code",
   "execution_count": 12,
   "metadata": {},
   "outputs": [],
   "source": [
    "#print(rankings)\n",
    "#print()\n",
    "#print(team_name)"
   ]
  },
  {
   "cell_type": "code",
   "execution_count": 13,
   "metadata": {},
   "outputs": [],
   "source": [
    "icc_data=pd.DataFrame({'rank':rankings, 'team':team_name})\n",
    "icc_data.to_csv('icc_data.csv',index=False)"
   ]
  },
  {
   "cell_type": "code",
   "execution_count": 15,
   "metadata": {},
   "outputs": [
    {
     "name": "stdout",
     "output_type": "stream",
     "text": [
      "List of top 10 teams\n",
      "\n",
      "   rank            team\n",
      "0     1        IndiaIND\n",
      "1     2   New ZealandNZ\n",
      "2     3  South AfricaSA\n",
      "3     4    AustraliaAUS\n",
      "4     5     PakistanPAK\n",
      "5     6   BangladeshBAN\n",
      "6     7     Sri LankaSL\n",
      "7     8   West IndiesWI\n",
      "8     9  AfghanistanAFG\n",
      "9    10      IrelandIRE\n"
     ]
    }
   ],
   "source": [
    "print('List of top 10 teams')\n",
    "print()\n",
    "print(icc_data.head(10))"
   ]
  },
  {
   "cell_type": "code",
   "execution_count": null,
   "metadata": {},
   "outputs": [],
   "source": []
  }
 ],
 "metadata": {
  "kernelspec": {
   "display_name": "Python 3",
   "language": "python",
   "name": "python3"
  },
  "language_info": {
   "codemirror_mode": {
    "name": "ipython",
    "version": 3
   },
   "file_extension": ".py",
   "mimetype": "text/x-python",
   "name": "python",
   "nbconvert_exporter": "python",
   "pygments_lexer": "ipython3",
   "version": "3.7.2"
  }
 },
 "nbformat": 4,
 "nbformat_minor": 2
}
